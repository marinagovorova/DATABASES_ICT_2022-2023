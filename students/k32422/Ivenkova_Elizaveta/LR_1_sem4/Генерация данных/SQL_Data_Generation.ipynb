{
 "cells": [
  {
   "cell_type": "markdown",
   "id": "3949bb96",
   "metadata": {},
   "source": [
    "# **dependencies**"
   ]
  },
  {
   "cell_type": "markdown",
   "id": "2ee41272",
   "metadata": {},
   "source": [
    "INSERT INTO table_name (col1, col2, ...) VALUES (value1, value2, ...)\n",
    "\n",
    "**INSERT INTO table_name VALUES (value1, value2, ...)**"
   ]
  },
  {
   "cell_type": "code",
   "execution_count": 41,
   "id": "8e23f1a5",
   "metadata": {},
   "outputs": [],
   "source": [
    "import pandas as pd\n",
    "import random as r\n",
    "from random import randint as rr"
   ]
  },
  {
   "cell_type": "code",
   "execution_count": 2,
   "id": "1fd570c4",
   "metadata": {},
   "outputs": [],
   "source": [
    "# INSERT INTO table_name (cols) VALUES (vals)\n",
    "\n",
    "def create_inserts(df, table_name, cols):\n",
    "    path = 'SQL\\\\'+ table_name + \".txt\"\n",
    "    col_names = ''\n",
    "    for n in cols[:-1]:\n",
    "        col_names += n + ', '\n",
    "    col_names += cols[-1]\n",
    "    \n",
    "    f = open(path, 'w')\n",
    "    \n",
    "    for row in df.itertuples():\n",
    "        s = f'INSERT INTO session.{table_name} ({col_names}) VALUES '\n",
    "        values = [getattr(row, col) for col in cols]\n",
    "        value_names = ''\n",
    "        for n in values[:-1]:\n",
    "            value_names += str(n) + ', '\n",
    "        value_names += str(values[-1])\n",
    "        \n",
    "        s += f'({value_names});\\n'\n",
    "        \n",
    "        f.write(s)\n",
    "        \n",
    "    f.close()\n",
    "    \n",
    "    "
   ]
  },
  {
   "cell_type": "code",
   "execution_count": 3,
   "id": "c6fa689c",
   "metadata": {},
   "outputs": [],
   "source": [
    "def embrace(arr):\n",
    "    arr = [\"'\" + word + \"'\" for word in arr]\n",
    "    return arr"
   ]
  },
  {
   "cell_type": "code",
   "execution_count": 102,
   "id": "cd388918",
   "metadata": {},
   "outputs": [],
   "source": [
    "def tostr(a):\n",
    "    return \"'\" + str(a) + \"'\""
   ]
  },
  {
   "cell_type": "markdown",
   "id": "a1acacca",
   "metadata": {},
   "source": [
    "# ~student~"
   ]
  },
  {
   "cell_type": "markdown",
   "id": "d519d66f",
   "metadata": {},
   "source": [
    "- surname\n",
    "- name\n",
    "- patronymic\n",
    "- student_id (PK, automatically generated)"
   ]
  },
  {
   "cell_type": "code",
   "execution_count": 6,
   "id": "fd447913",
   "metadata": {},
   "outputs": [],
   "source": [
    "male_name = embrace(['Александр',\n",
    "             \"Алексей\",\n",
    "              \"Олег\",\n",
    "             \"Сергей\",\n",
    "             \"Андрей\",\n",
    "             \"Дмитрий\",\n",
    "             \"Михаил\",\n",
    "             \"Павел\",\n",
    "             \"Илья\",\n",
    "             \"Константин\",\n",
    "             \"Виктор\",\n",
    "              \"Даниил\",\n",
    "             \"Кирилл\",\n",
    "             \"Артём\",\n",
    "             \"Иван\",\n",
    "             \"Максим\",\n",
    "             \"Григорий\",\n",
    "             \"Егор\"])\n",
    "# male_name = [\"'\" + n + \"'\" for n in male_name]"
   ]
  },
  {
   "cell_type": "code",
   "execution_count": 7,
   "id": "e68d861e",
   "metadata": {},
   "outputs": [],
   "source": [
    "male_surname = embrace([\"Иванов\",\n",
    "                 \"Смирнов\",\n",
    "                 \"Осипов\",\n",
    "                 \"Новиков\",\n",
    "                 \"Алексеев\",\n",
    "                 \"Лебедев\",\n",
    "                 \"Орлов\",\n",
    "                 \"Захаров\",\n",
    "                 \"Виноградов\",\n",
    "                 \"Филиппов\",\n",
    "                 \"Сидоров\",\n",
    "                 \"Овчинников\",\n",
    "                 \"Леонов\",\n",
    "                 \"Котов\",\n",
    "                 \"Малышев\"                 \n",
    "    \n",
    "])\n",
    "# male_surname = [\"'\" + n + \"'\" for n in male_surname]"
   ]
  },
  {
   "cell_type": "code",
   "execution_count": 8,
   "id": "edffb446",
   "metadata": {},
   "outputs": [],
   "source": [
    "male_patronymic = embrace([\"Игоревич\",\n",
    "                   \"Ильич\",\n",
    "                   \"Сергеевич\",\n",
    "                   \"Юрьевич\",\n",
    "                   \"Викторович\",\n",
    "                   \"Борисович\",\n",
    "                   \"Андреевич\",\n",
    "                   \"Максимович\",\n",
    "                   \"Матвеевич\",\n",
    "                   \"Олегович\",\n",
    "                   \"Эдуардович\"\n",
    "    \n",
    "])\n",
    "# male_patronymic = [\"'\" + n + \"'\" for n in male_patronymic]"
   ]
  },
  {
   "cell_type": "code",
   "execution_count": 9,
   "id": "944773c0",
   "metadata": {},
   "outputs": [],
   "source": [
    "female_name = embrace([\"Елена\",\n",
    "                \"Анна\",\n",
    "                \"Наталья\",\n",
    "                \"Ангелина\",\n",
    "                \"Ирина\",\n",
    "                \"Екатерина\",\n",
    "                \"Елизавета\",\n",
    "                \"Полина\",\n",
    "                \"Дарья\",\n",
    "                \"Ксения\",\n",
    "                \"Софья\",\n",
    "                \"Александра\"\n",
    "                \n",
    "               \n",
    "])\n",
    "# female_name = [\"'\" + n + \"'\" for n in female_name]"
   ]
  },
  {
   "cell_type": "code",
   "execution_count": 10,
   "id": "a39ab412",
   "metadata": {},
   "outputs": [],
   "source": [
    "female_surname = embrace([\"Смородина\",\n",
    "                   \"Смирнова\",\n",
    "                   \"Авдеева\",\n",
    "                   \"Волкова\",\n",
    "                   \"Миронова\",\n",
    "                   \"Румянцева\",\n",
    "                   \"Плотникова\",\n",
    "                   \"Соловьёва\",\n",
    "                   \"Павлова\",\n",
    "                   \"Жданова\",\n",
    "                   \"Полякова\",\n",
    "                   \"Гончарова\"\n",
    "    \n",
    "])\n",
    "# female_surname = [\"'\" + n + \"'\" for n in female_surname]"
   ]
  },
  {
   "cell_type": "code",
   "execution_count": 11,
   "id": "6e290fbd",
   "metadata": {},
   "outputs": [],
   "source": [
    "female_patronymic = embrace([\"Игоревна\",\n",
    "                     \"Эдуардовна\",\n",
    "                     \"Валентиновна\",\n",
    "                     \"Георгиевна\",\n",
    "                     \"Павловна\",\n",
    "                     \"Александровна\",\n",
    "                     \"Алексеевна\",\n",
    "                     \"Борисовна\",\n",
    "                     \"Анатольевна\",\n",
    "                     \"Владимировна\",\n",
    "                     \"Витальевна\",\n",
    "                     \"Максимовна\",\n",
    "                     \"Олеговна\"\n",
    "    \n",
    "])\n",
    "# female_patronymic = [\"'\" + n + \"'\" for n in female_patronymic]"
   ]
  },
  {
   "cell_type": "code",
   "execution_count": 11,
   "id": "3ccc4c8c",
   "metadata": {},
   "outputs": [],
   "source": [
    "# surname, name, patronymic, student_id: student\n",
    "\n",
    "# DONE\n",
    "\n",
    "data = []\n",
    "for i in range(100):\n",
    "    gender = r.randint(0, 1)\n",
    "    if gender == 1:\n",
    "        surname = female_surname[r.randint(0, len(female_surname) - 1)]\n",
    "        name = female_name[r.randint(0, len(female_name) - 1)]\n",
    "        patronymic = female_patronymic[r.randint(0, len(female_patronymic) - 1)]\n",
    "    else:\n",
    "        surname = male_surname[r.randint(0, len(male_surname) - 1)]\n",
    "        name = male_name[r.randint(0, len(male_name) - 1)]\n",
    "        patronymic = male_patronymic[r.randint(0, len(male_patronymic) - 1)]\n",
    "    data.append([surname, name, patronymic, i+1])\n",
    "    \n",
    "student = pd.DataFrame.from_records(data, columns=['surname', 'name', 'patronymic', 'student_id'])\n",
    "        "
   ]
  },
  {
   "cell_type": "code",
   "execution_count": 12,
   "id": "2d8878fb",
   "metadata": {},
   "outputs": [
    {
     "data": {
      "text/html": [
       "<div>\n",
       "<style scoped>\n",
       "    .dataframe tbody tr th:only-of-type {\n",
       "        vertical-align: middle;\n",
       "    }\n",
       "\n",
       "    .dataframe tbody tr th {\n",
       "        vertical-align: top;\n",
       "    }\n",
       "\n",
       "    .dataframe thead th {\n",
       "        text-align: right;\n",
       "    }\n",
       "</style>\n",
       "<table border=\"1\" class=\"dataframe\">\n",
       "  <thead>\n",
       "    <tr style=\"text-align: right;\">\n",
       "      <th></th>\n",
       "      <th>surname</th>\n",
       "      <th>name</th>\n",
       "      <th>patronymic</th>\n",
       "      <th>student_id</th>\n",
       "    </tr>\n",
       "  </thead>\n",
       "  <tbody>\n",
       "    <tr>\n",
       "      <th>23</th>\n",
       "      <td>'Смирнов'</td>\n",
       "      <td>'Егор'</td>\n",
       "      <td>'Сергеевич'</td>\n",
       "      <td>24</td>\n",
       "    </tr>\n",
       "    <tr>\n",
       "      <th>59</th>\n",
       "      <td>'Леонов'</td>\n",
       "      <td>'Константин'</td>\n",
       "      <td>'Юрьевич'</td>\n",
       "      <td>60</td>\n",
       "    </tr>\n",
       "    <tr>\n",
       "      <th>48</th>\n",
       "      <td>'Соловьёва'</td>\n",
       "      <td>'Екатерина'</td>\n",
       "      <td>'Витальевна'</td>\n",
       "      <td>49</td>\n",
       "    </tr>\n",
       "    <tr>\n",
       "      <th>88</th>\n",
       "      <td>'Филиппов'</td>\n",
       "      <td>'Константин'</td>\n",
       "      <td>'Эдуардович'</td>\n",
       "      <td>89</td>\n",
       "    </tr>\n",
       "    <tr>\n",
       "      <th>9</th>\n",
       "      <td>'Волкова'</td>\n",
       "      <td>'Дарья'</td>\n",
       "      <td>'Алексеевна'</td>\n",
       "      <td>10</td>\n",
       "    </tr>\n",
       "    <tr>\n",
       "      <th>44</th>\n",
       "      <td>'Лебедев'</td>\n",
       "      <td>'Алексей'</td>\n",
       "      <td>'Борисович'</td>\n",
       "      <td>45</td>\n",
       "    </tr>\n",
       "    <tr>\n",
       "      <th>91</th>\n",
       "      <td>'Леонов'</td>\n",
       "      <td>'Олег'</td>\n",
       "      <td>'Игоревич'</td>\n",
       "      <td>92</td>\n",
       "    </tr>\n",
       "    <tr>\n",
       "      <th>63</th>\n",
       "      <td>'Полякова'</td>\n",
       "      <td>'Анна'</td>\n",
       "      <td>'Анатольевна'</td>\n",
       "      <td>64</td>\n",
       "    </tr>\n",
       "    <tr>\n",
       "      <th>34</th>\n",
       "      <td>'Плотникова'</td>\n",
       "      <td>'Анна'</td>\n",
       "      <td>'Александровна'</td>\n",
       "      <td>35</td>\n",
       "    </tr>\n",
       "    <tr>\n",
       "      <th>74</th>\n",
       "      <td>'Котов'</td>\n",
       "      <td>'Сергей'</td>\n",
       "      <td>'Максимович'</td>\n",
       "      <td>75</td>\n",
       "    </tr>\n",
       "  </tbody>\n",
       "</table>\n",
       "</div>"
      ],
      "text/plain": [
       "         surname          name       patronymic  student_id\n",
       "23     'Смирнов'        'Егор'      'Сергеевич'          24\n",
       "59      'Леонов'  'Константин'        'Юрьевич'          60\n",
       "48   'Соловьёва'   'Екатерина'     'Витальевна'          49\n",
       "88    'Филиппов'  'Константин'     'Эдуардович'          89\n",
       "9      'Волкова'       'Дарья'     'Алексеевна'          10\n",
       "44     'Лебедев'     'Алексей'      'Борисович'          45\n",
       "91      'Леонов'        'Олег'       'Игоревич'          92\n",
       "63    'Полякова'        'Анна'    'Анатольевна'          64\n",
       "34  'Плотникова'        'Анна'  'Александровна'          35\n",
       "74       'Котов'      'Сергей'     'Максимович'          75"
      ]
     },
     "execution_count": 12,
     "metadata": {},
     "output_type": "execute_result"
    }
   ],
   "source": [
    "student.sample(10)"
   ]
  },
  {
   "cell_type": "code",
   "execution_count": 13,
   "id": "3ad721d0",
   "metadata": {},
   "outputs": [],
   "source": [
    "# DONE\n",
    "\n",
    "create_inserts(student, 'student', ['surname', 'name', 'patronymic'])"
   ]
  },
  {
   "cell_type": "markdown",
   "id": "c92f6f34",
   "metadata": {},
   "source": [
    "# ~edu_track~"
   ]
  },
  {
   "cell_type": "markdown",
   "id": "97973119",
   "metadata": {},
   "source": [
    "\n",
    "- name\n",
    "- track_id (autogen.)"
   ]
  },
  {
   "cell_type": "code",
   "execution_count": 74,
   "id": "77a2c696",
   "metadata": {},
   "outputs": [],
   "source": [
    "names = embrace(['Прикладная математика и информатика',\n",
    "         'Механика и математическое моделирование',\n",
    "         'Прикладные математика и физика',\n",
    "         'Картография и геоинформатика',\n",
    "         'Прикладная информатика',\n",
    "         'Программная инженерия',\n",
    "         'Фотоника и оптоинформатика'])"
   ]
  },
  {
   "cell_type": "code",
   "execution_count": null,
   "id": "a3184c3b",
   "metadata": {},
   "outputs": [],
   "source": []
  },
  {
   "cell_type": "code",
   "execution_count": 75,
   "id": "37c6d474",
   "metadata": {},
   "outputs": [],
   "source": [
    "qual = [['\"Бакалавр\"', '03'], ['\"Магистр\"', '04'],\n",
    "        ['\"Специалист\"', '05'], ['\"Исследователь\"', '06']]"
   ]
  },
  {
   "cell_type": "code",
   "execution_count": 76,
   "id": "1e4b1971",
   "metadata": {},
   "outputs": [],
   "source": [
    "data = []\n",
    "\n",
    "for i in range(len(names)):\n",
    "    tmp = [i+1, names[i]]\n",
    "    j = r.randint(0, 3)\n",
    "    s = '\"' + str(r.randint(10, 57)) + '.'\\\n",
    "                + qual[j][1] + '.' + str(r.randint(10, 57)) + '\"'\n",
    "    tmp.append(s)\n",
    "    tmp.append(qual[j][0])\n",
    "    data.append(tmp)\n",
    "    \n",
    "\n"
   ]
  },
  {
   "cell_type": "code",
   "execution_count": 77,
   "id": "95dc21e1",
   "metadata": {},
   "outputs": [],
   "source": [
    "edu_track = pd.DataFrame.from_records(data,\n",
    "                                      columns=['track_id','name',\n",
    "                                               'track_code', 'qualification'])"
   ]
  },
  {
   "cell_type": "code",
   "execution_count": 18,
   "id": "54b4134f",
   "metadata": {},
   "outputs": [],
   "source": [
    "# DONE\n",
    "create_inserts(edu_track, 'edu_track', ['name', 'track_code', 'qualification'])"
   ]
  },
  {
   "cell_type": "markdown",
   "id": "63f8f603",
   "metadata": {},
   "source": [
    "# ~edu_program~"
   ]
  },
  {
   "cell_type": "markdown",
   "id": "c9722c81",
   "metadata": {},
   "source": [
    "\n",
    "- track_id (FK)\n",
    "- name\n",
    "- program_id (autofill)"
   ]
  },
  {
   "cell_type": "code",
   "execution_count": 78,
   "id": "48ad1a03",
   "metadata": {},
   "outputs": [],
   "source": [
    "names = embrace([\"Системное и прикладное программное обеспечение\",\n",
    "         \"Компьютерные системы и технологии\",\n",
    "         \"Теоретическая и экспериментальная физика\",\n",
    "         \"Разработка программного обеспечения\",\n",
    "         \"Фотоника и оптоинформатика\",\n",
    "         \"Лазерные технологии\",\n",
    "         \"Инфохимия\",\n",
    "         \"Иностранные языки и информационные технологии\",\n",
    "         \"Бизнес-информатика\",\n",
    "         \"Экотехнологии и устойчивое развитие\",\n",
    "         \"Мобильные и сетевые технологии\",\n",
    "         \"Механика и математическое моделирование\",\n",
    "         \"Математика и компьютерные науки\",\n",
    "         \"Физика\",\n",
    "         \"Дифференциальные уравнения, динамические системы и оптимальное управление\",\n",
    "         \"Квантовые вычислительные системы\",\n",
    "         \"Физика быстропротекающих процессов \",\n",
    "         \"Безопасность компьютерных систем\"         \n",
    "        ])"
   ]
  },
  {
   "cell_type": "code",
   "execution_count": 79,
   "id": "ce0fed68",
   "metadata": {},
   "outputs": [],
   "source": [
    "edu_program = pd.DataFrame.from_records(data=[(str(r.randint(1, edu_track.shape[0])), names[i], \\\n",
    "                                               i+1) for i in range(len(names))],\\\n",
    "                                               columns=['track_id', 'name', 'program_id'])"
   ]
  },
  {
   "cell_type": "code",
   "execution_count": 21,
   "id": "1143b00e",
   "metadata": {},
   "outputs": [],
   "source": [
    "# DONE\n",
    "\n",
    "create_inserts(edu_program, 'edu_program', ['track_id', 'name'])"
   ]
  },
  {
   "cell_type": "markdown",
   "id": "22ef808d",
   "metadata": {
    "heading_collapsed": true
   },
   "source": [
    "# ~attestation~"
   ]
  },
  {
   "cell_type": "code",
   "execution_count": 38,
   "id": "89be241d",
   "metadata": {
    "hidden": true
   },
   "outputs": [],
   "source": [
    "data = []"
   ]
  },
  {
   "cell_type": "code",
   "execution_count": 47,
   "id": "a6fdc366",
   "metadata": {
    "hidden": true
   },
   "outputs": [],
   "source": [
    "# generate exam date\n",
    "def exam_date():\n",
    "    year = rr(2018, 2020)\n",
    "    start_date = datetime.date(year, 6, 15)\n",
    "    end_date   = datetime.date(year, 6, 30)\n",
    "    num_days   = (end_date - start_date).days\n",
    "    rand_days   = random.randint(1, num_days)\n",
    "    random_date = start_date + datetime.timedelta(days=rand_days)\n",
    "    return tostr(random_date)"
   ]
  },
  {
   "cell_type": "code",
   "execution_count": 53,
   "id": "8c66f533",
   "metadata": {
    "hidden": true
   },
   "outputs": [],
   "source": [
    "for i in range(157):\n",
    "    row = []\n",
    "    row.append(rr(0, 103))\n",
    "    row.append(exam_date())\n",
    "    row.append(rr(1, 37))\n",
    "    row.append(rr(1, 50))\n",
    "    row.append(rr(1, 60))\n",
    "    row.append(rr(0, 3))\n",
    "    row.append(i+1)\n",
    "    \n",
    "    data.append(row)"
   ]
  },
  {
   "cell_type": "code",
   "execution_count": 45,
   "id": "20e64f4c",
   "metadata": {
    "hidden": true
   },
   "outputs": [],
   "source": [
    "import datetime\n",
    "import random"
   ]
  },
  {
   "cell_type": "code",
   "execution_count": 56,
   "id": "6fab136a",
   "metadata": {
    "hidden": true
   },
   "outputs": [],
   "source": [
    "attestation = pd.DataFrame.from_records(data, columns=['grade',\n",
    "                                                     'attestation_date',\n",
    "                                                     'teacher_id',\n",
    "                                                     'edu_plan_subject_id',\n",
    "                                                     'student_in_group_id',\n",
    "                                                     'attempt_count',\n",
    "                                                     'attestation_id'])"
   ]
  },
  {
   "cell_type": "code",
   "execution_count": 57,
   "id": "6f1d538d",
   "metadata": {
    "hidden": true
   },
   "outputs": [],
   "source": [
    "create_inserts(attestaion, 'attestation', ['grade',\n",
    "                                                     'attestation_date',\n",
    "                                                     'teacher_id',\n",
    "                                                     'edu_plan_subject_id',\n",
    "                                                     'student_in_group_id',\n",
    "                                                     'attempt_count'])"
   ]
  },
  {
   "cell_type": "markdown",
   "id": "0de70d14",
   "metadata": {
    "heading_collapsed": true
   },
   "source": [
    "# ~attestation_timetable~"
   ]
  },
  {
   "cell_type": "code",
   "execution_count": 68,
   "id": "a4c6b85b",
   "metadata": {
    "hidden": true
   },
   "outputs": [],
   "source": [
    "data = []"
   ]
  },
  {
   "cell_type": "code",
   "execution_count": 69,
   "id": "26bc4b08",
   "metadata": {
    "hidden": true
   },
   "outputs": [],
   "source": [
    "for i in range(30):\n",
    "    row = [rr(1, 20)]\n",
    "    row.append(rr(1, 50))\n",
    "    row.append(rr(1, 100))    \n",
    "    row.append(exam_date())\n",
    "    row.append(rr(1, 37))  \n",
    "    row.append(i+1)\n",
    "    row.append(rr(1, 8))\n",
    "    \n",
    "    data.append(row)"
   ]
  },
  {
   "cell_type": "code",
   "execution_count": 70,
   "id": "30c554ac",
   "metadata": {
    "hidden": true
   },
   "outputs": [],
   "source": [
    "attestation_timetable = pd.DataFrame.from_records(data, columns=['group_id',\n",
    "                                                                'edu_plan_subject_id',\n",
    "                                                                'classroom_id',\n",
    "                                                                'exam_date',\n",
    "                                                                'teacher_id',\n",
    "                                                                'attestation_timetable_id',\n",
    "                                                                'semester'])"
   ]
  },
  {
   "cell_type": "code",
   "execution_count": 71,
   "id": "aec54c9a",
   "metadata": {
    "hidden": true
   },
   "outputs": [],
   "source": [
    "create_inserts(attestation_timetable, 'attestation_timetable', ['group_id',\n",
    "                                                                'edu_plan_subject_id',\n",
    "                                                                'classroom_id',\n",
    "                                                                'exam_date',\n",
    "                                                                'teacher_id',\n",
    "#                                                                 'attestation_timetable_id',\n",
    "                                                                'semester'])"
   ]
  },
  {
   "cell_type": "code",
   "execution_count": null,
   "id": "2e12073f",
   "metadata": {
    "hidden": true
   },
   "outputs": [],
   "source": []
  },
  {
   "cell_type": "code",
   "execution_count": null,
   "id": "bee20db1",
   "metadata": {
    "hidden": true
   },
   "outputs": [],
   "source": []
  },
  {
   "cell_type": "code",
   "execution_count": null,
   "id": "aae50e04",
   "metadata": {
    "hidden": true
   },
   "outputs": [],
   "source": []
  },
  {
   "cell_type": "markdown",
   "id": "86d0dcba",
   "metadata": {
    "heading_collapsed": true
   },
   "source": [
    "# ~building~"
   ]
  },
  {
   "cell_type": "code",
   "execution_count": 32,
   "id": "0a7f017d",
   "metadata": {
    "hidden": true
   },
   "outputs": [],
   "source": [
    "addresses = embrace(['Гороховая улица, 35-37',\n",
    "            'Литейный проспект, 57',\n",
    "            'Лесной проспект, 20к5',\n",
    "            '11-я линия Васильевского острова, 38',\n",
    "            'Гатчинская улица, 8',\n",
    "            'улица Оптиков, 35к2'])"
   ]
  },
  {
   "cell_type": "code",
   "execution_count": 33,
   "id": "33fc92be",
   "metadata": {
    "hidden": true
   },
   "outputs": [],
   "source": [
    "data = [[i+1, addresses[i], tostr('Корпус '+str(i+1))] for i in range(6)]"
   ]
  },
  {
   "cell_type": "code",
   "execution_count": 34,
   "id": "6976b79d",
   "metadata": {
    "hidden": true
   },
   "outputs": [],
   "source": [
    "building = pd.DataFrame.from_records(data, columns=['building_id', 'address', 'building_name'])"
   ]
  },
  {
   "cell_type": "code",
   "execution_count": 35,
   "id": "df9ffe7f",
   "metadata": {
    "hidden": true
   },
   "outputs": [],
   "source": [
    "create_inserts(building, 'building', ['address', 'building_name'])"
   ]
  },
  {
   "cell_type": "markdown",
   "id": "38762f01",
   "metadata": {
    "heading_collapsed": true
   },
   "source": [
    "# ~classroom~"
   ]
  },
  {
   "cell_type": "code",
   "execution_count": 40,
   "id": "75064237",
   "metadata": {
    "hidden": true
   },
   "outputs": [],
   "source": [
    "type = embrace(['Лекционная', 'Лаборатория', 'Практическая', 'Другое'])\n",
    "data = [[str(i+1),\n",
    "       str(r.randint(1, 100)),\n",
    "       str(r.randint(1, 6)) + str(r.randint(1, 4)) + str(r.randint(10, 99)),\n",
    "       str(r.randint(1, 6)),\n",
    "       type[r.randint(0, 3)]] for i in range(100)]"
   ]
  },
  {
   "cell_type": "code",
   "execution_count": 41,
   "id": "1a07e6a3",
   "metadata": {
    "hidden": true
   },
   "outputs": [],
   "source": [
    "classroom = pd.DataFrame.from_records(data, columns=['classroom_id', 'capacity',\n",
    "                                                    'room', 'building_id',\n",
    "                                                    'classroom_type'])"
   ]
  },
  {
   "cell_type": "code",
   "execution_count": 42,
   "id": "b3988f6b",
   "metadata": {
    "hidden": true
   },
   "outputs": [],
   "source": [
    "create_inserts(classroom, 'classroom', ['capacity',\n",
    "                                                    'room', 'building_id',\n",
    "                                                    'classroom_type'])"
   ]
  },
  {
   "cell_type": "code",
   "execution_count": null,
   "id": "7013e5de",
   "metadata": {
    "hidden": true
   },
   "outputs": [],
   "source": []
  },
  {
   "cell_type": "code",
   "execution_count": null,
   "id": "391e37dc",
   "metadata": {
    "hidden": true
   },
   "outputs": [],
   "source": []
  },
  {
   "cell_type": "markdown",
   "id": "14f71d50",
   "metadata": {
    "heading_collapsed": true
   },
   "source": [
    "# ~edu_plan~"
   ]
  },
  {
   "cell_type": "markdown",
   "id": "54282597",
   "metadata": {
    "hidden": true
   },
   "source": [
    "edu_plan"
   ]
  },
  {
   "cell_type": "code",
   "execution_count": 82,
   "id": "fb0579de",
   "metadata": {
    "hidden": true
   },
   "outputs": [],
   "source": [
    "learning_type = embrace([\"Очный\", \"Дистанционный\", \"Смешанный\"])\n",
    "\n",
    "edu_plan = pd.DataFrame.from_records([[i+1,\n",
    "                                      (r.randint(1, edu_program.shape[0])),\n",
    "                                      learning_type[r.randint(0, 2)],\n",
    "                                      r.randint(2016, 2020)]\n",
    "                                      for i in range(20)]\n",
    "    , columns=['plan_id', 'program_id', 'learning_type', 'start_year'])\n"
   ]
  },
  {
   "cell_type": "code",
   "execution_count": 83,
   "id": "83756a0f",
   "metadata": {
    "hidden": true
   },
   "outputs": [],
   "source": [
    "create_inserts(edu_plan, 'edu_plan', ['plan_id', 'program_id', 'learning_type', 'start_year'])"
   ]
  },
  {
   "cell_type": "markdown",
   "id": "9b1e4848",
   "metadata": {
    "heading_collapsed": true
   },
   "source": [
    "# ???~edu_plan_subject~"
   ]
  },
  {
   "cell_type": "code",
   "execution_count": 15,
   "id": "83fe8586",
   "metadata": {
    "hidden": true
   },
   "outputs": [],
   "source": [
    "data = []\n",
    "for i in range(50):\n",
    "    row = []\n",
    "    row.append(i+1) #id\n",
    "    row.append(r.randint(1, 18))\n",
    "    row.append(r.randint(1, 20))\n",
    "    \n",
    "    start = r.randint(1, 8)\n",
    "    end = start + r.randint(1, 3)\n",
    "    if end > 9:\n",
    "        end = 9\n",
    "    sem = [j for j in range(start, end, 1)]\n",
    "    \n",
    "    row.append(sem)\n",
    "    \n",
    "    data.append(row)\n",
    "    "
   ]
  },
  {
   "cell_type": "code",
   "execution_count": 17,
   "id": "081ed20e",
   "metadata": {
    "hidden": true
   },
   "outputs": [
    {
     "data": {
      "text/plain": [
       "[[1, 13, 17, [5, 6, 7]],\n",
       " [2, 18, 18, [2, 3, 4]],\n",
       " [3, 18, 17, [5]],\n",
       " [4, 1, 5, [2]],\n",
       " [5, 10, 5, [3]],\n",
       " [6, 4, 4, [6]],\n",
       " [7, 17, 3, [2, 3]],\n",
       " [8, 5, 6, [7, 8]],\n",
       " [9, 5, 13, [4, 5, 6]],\n",
       " [10, 15, 4, [4, 5]],\n",
       " [11, 10, 8, [8]],\n",
       " [12, 11, 11, [1]],\n",
       " [13, 2, 20, [3]],\n",
       " [14, 15, 13, [7]],\n",
       " [15, 1, 13, [1]],\n",
       " [16, 5, 7, [7, 8]],\n",
       " [17, 14, 15, [2, 3, 4]],\n",
       " [18, 12, 7, [7, 8]],\n",
       " [19, 6, 18, [1]],\n",
       " [20, 13, 7, [8]],\n",
       " [21, 13, 17, [6, 7]],\n",
       " [22, 12, 15, [1]],\n",
       " [23, 2, 16, [1, 2, 3]],\n",
       " [24, 17, 17, [4, 5]],\n",
       " [25, 7, 10, [5, 6, 7]],\n",
       " [26, 11, 1, [6, 7]],\n",
       " [27, 5, 10, [4, 5, 6]],\n",
       " [28, 1, 12, [5, 6]],\n",
       " [29, 18, 3, [3, 4]],\n",
       " [30, 14, 12, [3]],\n",
       " [31, 6, 14, [8]],\n",
       " [32, 15, 14, [7, 8]],\n",
       " [33, 3, 3, [3]],\n",
       " [34, 8, 4, [8]],\n",
       " [35, 11, 19, [5, 6, 7]],\n",
       " [36, 14, 7, [8]],\n",
       " [37, 2, 11, [8]],\n",
       " [38, 1, 2, [4, 5]],\n",
       " [39, 18, 10, [6, 7]],\n",
       " [40, 6, 10, [5, 6, 7]],\n",
       " [41, 14, 20, [2]],\n",
       " [42, 15, 7, [4, 5, 6]],\n",
       " [43, 18, 6, [1, 2]],\n",
       " [44, 17, 5, [4, 5, 6]],\n",
       " [45, 5, 14, [4, 5, 6]],\n",
       " [46, 4, 9, [8]],\n",
       " [47, 10, 3, [8]],\n",
       " [48, 17, 11, [3, 4]],\n",
       " [49, 11, 8, [2]],\n",
       " [50, 17, 15, [8]]]"
      ]
     },
     "execution_count": 17,
     "metadata": {},
     "output_type": "execute_result"
    }
   ],
   "source": [
    "data"
   ]
  },
  {
   "cell_type": "code",
   "execution_count": 18,
   "id": "89944e17",
   "metadata": {
    "hidden": true
   },
   "outputs": [],
   "source": [
    "edu_plan_subject = pd.DataFrame.from_records(data, columns=['edu_plan_subject_id',\n",
    "                                                   'subject_id',\n",
    "                                                   'edu_plan_id',\n",
    "                                                   'semester'])"
   ]
  },
  {
   "cell_type": "code",
   "execution_count": 19,
   "id": "9b3d91df",
   "metadata": {
    "hidden": true
   },
   "outputs": [],
   "source": [
    "create_inserts(edu_plan_subject, 'edu_plan_subject', ['subject_id',\n",
    "                                                   'edu_plan_id',\n",
    "                                                   'semester'])"
   ]
  },
  {
   "cell_type": "raw",
   "id": "4d40d948",
   "metadata": {
    "hidden": true
   },
   "source": []
  },
  {
   "cell_type": "markdown",
   "id": "2adf1aa8",
   "metadata": {
    "heading_collapsed": true
   },
   "source": [
    "# ~faculty~"
   ]
  },
  {
   "cell_type": "code",
   "execution_count": 43,
   "id": "82ed02c5",
   "metadata": {
    "hidden": true
   },
   "outputs": [],
   "source": [
    "faculty = pd.DataFrame.from_records(data=[[i+1,\n",
    "                                           i+1,\n",
    "                                           tostr('Факультет '+str(i+1))]\n",
    "                                                  for i in range(6)],\n",
    "                                    columns=['faculty_id',\n",
    "                                            'building_id',\n",
    "                                            'faculty_name']\n",
    ")"
   ]
  },
  {
   "cell_type": "code",
   "execution_count": 44,
   "id": "47f2b575",
   "metadata": {
    "hidden": true
   },
   "outputs": [],
   "source": [
    "create_inserts(faculty, 'faculty', ['building_id', 'faculty_name'])"
   ]
  },
  {
   "cell_type": "code",
   "execution_count": null,
   "id": "8acd2189",
   "metadata": {
    "hidden": true
   },
   "outputs": [],
   "source": []
  },
  {
   "cell_type": "code",
   "execution_count": null,
   "id": "46818822",
   "metadata": {
    "hidden": true
   },
   "outputs": [],
   "source": []
  },
  {
   "cell_type": "markdown",
   "id": "11ccbd5b",
   "metadata": {
    "heading_collapsed": true
   },
   "source": [
    "# ~group~"
   ]
  },
  {
   "cell_type": "code",
   "execution_count": 45,
   "id": "cc1a1df1",
   "metadata": {
    "hidden": true
   },
   "outputs": [],
   "source": [
    "letters = 'RMTKDV'"
   ]
  },
  {
   "cell_type": "code",
   "execution_count": 58,
   "id": "26d46578",
   "metadata": {
    "hidden": true
   },
   "outputs": [],
   "source": [
    "data = []\n",
    "\n",
    "\n",
    "for i in range(20):\n",
    "    row = [i+1, r.randint(2016, 2022)]\n",
    "    semester = r.randint(1, 4)\n",
    "    group_name = letters[r.randint(0, 5)]\n",
    "    group_name += str(r.randint(3, 4)) +\\\n",
    "    str((semester+1) // 2) + str(r.randint(10, 20))\n",
    "    row.append(tostr(group_name))\n",
    "    row.append(semester)\n",
    "    row.append(r.randint(1, 20))\n",
    "    \n",
    "    data.append(row)"
   ]
  },
  {
   "cell_type": "code",
   "execution_count": 59,
   "id": "ec7d871a",
   "metadata": {
    "hidden": true
   },
   "outputs": [],
   "source": [
    "group = pd.DataFrame.from_records(data, columns=['group_id',\n",
    "                                                 'study_year',\n",
    "                                                'group_name',\n",
    "                                                'semester',\n",
    "                                                'edu_plan_id'])"
   ]
  },
  {
   "cell_type": "code",
   "execution_count": 60,
   "id": "916fc7ef",
   "metadata": {
    "hidden": true
   },
   "outputs": [],
   "source": [
    "create_inserts(group, 'group', ['study_year',\n",
    "                                                'group_name',\n",
    "                                                'semester',\n",
    "                                                'edu_plan_id'])"
   ]
  },
  {
   "cell_type": "code",
   "execution_count": null,
   "id": "ceab2888",
   "metadata": {
    "hidden": true
   },
   "outputs": [],
   "source": []
  },
  {
   "cell_type": "code",
   "execution_count": null,
   "id": "b1d2ca2c",
   "metadata": {
    "hidden": true
   },
   "outputs": [],
   "source": []
  },
  {
   "cell_type": "code",
   "execution_count": null,
   "id": "1d86b0b0",
   "metadata": {
    "hidden": true
   },
   "outputs": [],
   "source": []
  },
  {
   "cell_type": "markdown",
   "id": "592458cd",
   "metadata": {},
   "source": [
    "# ~scholarship_payments~"
   ]
  },
  {
   "cell_type": "code",
   "execution_count": 119,
   "id": "5bf95b9b",
   "metadata": {},
   "outputs": [],
   "source": [
    "start1 = '-09-01'\n",
    "end1 = '-01-31'\n",
    "\n",
    "start2 = '-02-01'\n",
    "end2 = '-06-30'"
   ]
  },
  {
   "cell_type": "code",
   "execution_count": 120,
   "id": "64632ffa",
   "metadata": {},
   "outputs": [],
   "source": [
    "data = []\n",
    "for i in range(100):\n",
    "    row = [r.randint(1, 100),\n",
    "        r.randint(1, 5), \n",
    "        i+1]\n",
    "    year = r.randint(2016, 2020)\n",
    "    if r.randint(0, 1):\n",
    "        row.append(tostr(str(year) + start1))\n",
    "        row.append(tostr(str(year + 1) + end1))\n",
    "        \n",
    "    else:\n",
    "        row.append(tostr(str(year) + start2))\n",
    "        row.append(tostr(str(year + 1) + end2))\n",
    "    data.append(row)"
   ]
  },
  {
   "cell_type": "code",
   "execution_count": 121,
   "id": "2689f0a2",
   "metadata": {},
   "outputs": [],
   "source": [
    "scholarship_payments = pd.DataFrame.from_records(data, columns=['student_id',\n",
    "                                                               'scholarship_id',\n",
    "                                                               'paid_scholarship_id',\n",
    "                                                               'start_date',\n",
    "                                                               'end_date'])"
   ]
  },
  {
   "cell_type": "code",
   "execution_count": 122,
   "id": "a3a4a6e7",
   "metadata": {},
   "outputs": [],
   "source": [
    "create_inserts(scholarship_payments, 'scholarship_payments', ['student_id',\n",
    "                                                              'scholarship_id',\n",
    "                                                               \n",
    "                                                               'start_date',\n",
    "                                                               'end_date'])"
   ]
  },
  {
   "cell_type": "code",
   "execution_count": null,
   "id": "04f037df",
   "metadata": {},
   "outputs": [],
   "source": []
  },
  {
   "cell_type": "markdown",
   "id": "ee005166",
   "metadata": {
    "heading_collapsed": true
   },
   "source": [
    "# ~scholarship_type~"
   ]
  },
  {
   "cell_type": "code",
   "execution_count": 26,
   "id": "e5bab238",
   "metadata": {
    "hidden": true
   },
   "outputs": [],
   "source": [
    "st = embrace(['Культурно-творческая',\n",
    "     \"Спортивная\",\n",
    "     \"Общественная\",\n",
    "     \"Научно-исследовательская\",\n",
    "     \"Учебная\"])"
   ]
  },
  {
   "cell_type": "code",
   "execution_count": 27,
   "id": "78ba294d",
   "metadata": {
    "hidden": true
   },
   "outputs": [],
   "source": [
    "data = []\n",
    "\n",
    "for i in range(5):\n",
    "    data.append([i+1, st[i], r.randint(10, 18)*1000])"
   ]
  },
  {
   "cell_type": "code",
   "execution_count": 28,
   "id": "a7afd0f4",
   "metadata": {
    "hidden": true
   },
   "outputs": [],
   "source": [
    "scholarship_type = pd.DataFrame.from_records(data, columns=['scholarship_id', 'scholarship_type', 'amount'])"
   ]
  },
  {
   "cell_type": "code",
   "execution_count": 29,
   "id": "4b8daa37",
   "metadata": {
    "hidden": true
   },
   "outputs": [],
   "source": [
    "create_inserts(scholarship_type, 'scholarship_type', ['scholarship_type', 'amount'])"
   ]
  },
  {
   "cell_type": "markdown",
   "id": "aaf37281",
   "metadata": {
    "heading_collapsed": true
   },
   "source": [
    "# ~student_in_group~"
   ]
  },
  {
   "cell_type": "code",
   "execution_count": 103,
   "id": "7d1afdb1",
   "metadata": {
    "hidden": true
   },
   "outputs": [],
   "source": [
    "start_date = '-09-01'\n",
    "end_date = '-08-31'"
   ]
  },
  {
   "cell_type": "code",
   "execution_count": 116,
   "id": "63736691",
   "metadata": {
    "hidden": true
   },
   "outputs": [],
   "source": [
    "data = []\n",
    "status = embrace(['Обучается','Академ','Обучается'])\n",
    "\n",
    "for i in range(60):\n",
    "    year = r.randint(2018, 2021)\n",
    "    start = tostr(str(year) + start_date)\n",
    "    end = tostr(str(year+1) + end_date)\n",
    "    \n",
    "    row = [start, end, r.randint(1, 100), i+1,\n",
    "           status[r.randint(0,1)], r.randint(5, 17)]\n",
    "    data.append(row)"
   ]
  },
  {
   "cell_type": "code",
   "execution_count": 117,
   "id": "ffa6adb6",
   "metadata": {
    "hidden": true
   },
   "outputs": [],
   "source": [
    "student_in_group = pd.DataFrame.from_records(data, columns = ['start_date',\n",
    "                                                             'end_date',\n",
    "                                                             'student_id',\n",
    "                                                             'student_in_group_id',\n",
    "                                                             'status',\n",
    "                                                             'group_id'])"
   ]
  },
  {
   "cell_type": "code",
   "execution_count": 118,
   "id": "dc239b1b",
   "metadata": {
    "hidden": true
   },
   "outputs": [],
   "source": [
    "create_inserts(student_in_group, 'student_in_group',  ['start_date',\n",
    "                                                             'end_date',\n",
    "                                                             'student_id',\n",
    "                                                             'student_in_group_id',\n",
    "                                                             'status',\n",
    "                                                             'group_id'])"
   ]
  },
  {
   "cell_type": "markdown",
   "id": "791b5447",
   "metadata": {
    "heading_collapsed": true
   },
   "source": [
    "# ~subject~"
   ]
  },
  {
   "cell_type": "markdown",
   "id": "5af79998",
   "metadata": {
    "hidden": true
   },
   "source": [
    "> subject\n",
    "- subject_id (autofill)\n",
    "- subject_name\n",
    "- lecture_hours\n",
    "- practice_hours\n",
    "- lab_hours\n",
    "- edu_practice_hours\n",
    "- attestation_type ()"
   ]
  },
  {
   "cell_type": "code",
   "execution_count": 24,
   "id": "88cde258",
   "metadata": {
    "hidden": true
   },
   "outputs": [],
   "source": [
    "attestation_type = embrace(['Экзамен', \"Зачет\", \"Дифференцированный зачет\"])"
   ]
  },
  {
   "cell_type": "code",
   "execution_count": 25,
   "id": "611ec6c1",
   "metadata": {
    "hidden": true
   },
   "outputs": [],
   "source": [
    "subjects = embrace([\"Русский язык\",\n",
    "                    \"История\", \"Экономика\",\n",
    "                    \"Экология\",\n",
    "                    \"Философия\",\n",
    "                    \"Общая физика\",\n",
    "                    \"Психология\",\n",
    "                    \"Социология\",\n",
    "                    \"Астрономия\",\n",
    "                    \"Дискретная математика\",\n",
    "                    \"Теория вероятностей\",\n",
    "                    \"Информатика\",\n",
    "                    \"Компьютерные сети\",\n",
    "                    \"Химия\",\n",
    "                    \"Статистика\",\n",
    "                    \"Оптика\",\n",
    "                    \"Средства веб-программирования\",\n",
    "                    \"Физкультура\"\n",
    "                    \n",
    "                    \n",
    "    \n",
    "])"
   ]
  },
  {
   "cell_type": "code",
   "execution_count": 26,
   "id": "1b97c10c",
   "metadata": {
    "hidden": true
   },
   "outputs": [],
   "source": [
    "subject = pd.DataFrame.from_records(data=[(i + 1,\n",
    "                                          subjects[i],\n",
    "                                          str(r.randint(6, 16)),\n",
    "                                          str(r.randint(6, 16)),\n",
    "                                          str(r.randint(6, 16)),\n",
    "                                          str(r.randint(6, 16)),\n",
    "                                           attestation_type[r.randint(0, 2)]\n",
    "                                          ) for i in range(len(subjects))],\n",
    "                                    \n",
    "                                   columns=['subject_id',\n",
    "                                            'subject_name',\n",
    "                                            'lecture_hours',\n",
    "                                            'practice_hours',\n",
    "                                            'lab_hours',\n",
    "                                            'edu_practice_hours',\n",
    "                                            'attestation_type'])"
   ]
  },
  {
   "cell_type": "code",
   "execution_count": 27,
   "id": "ca1164fa",
   "metadata": {
    "hidden": true
   },
   "outputs": [],
   "source": [
    "create_inserts(subject, 'subject', ['subject_name',\n",
    "                                            'lecture_hours',\n",
    "                                            'practice_hours',\n",
    "                                            'lab_hours',\n",
    "                                            'edu_practice_hours',\n",
    "                                            'attestation_type'])"
   ]
  },
  {
   "cell_type": "markdown",
   "id": "f0b2503a",
   "metadata": {
    "heading_collapsed": true
   },
   "source": [
    "# ~teacher~"
   ]
  },
  {
   "cell_type": "code",
   "execution_count": 5,
   "id": "2f934dfe",
   "metadata": {
    "hidden": true
   },
   "outputs": [],
   "source": [
    "position = embrace(['Преподаватель',\n",
    "                   \"Старший преподаватель\",\n",
    "                   \"Инженер\",\n",
    "                   \"Лаборант\",\n",
    "                   \"Стажер\",\n",
    "                   \"Ментор\"])"
   ]
  },
  {
   "cell_type": "code",
   "execution_count": 14,
   "id": "86b5982c",
   "metadata": {
    "hidden": true
   },
   "outputs": [],
   "source": [
    "data = []\n",
    "for i in range(37):\n",
    "    row = []\n",
    "    row.append(i+1) #id\n",
    "    \n",
    "    \n",
    "    if r.randint(0, 1):\n",
    "        surname = female_surname[r.randint(0, len(female_surname))-1]\n",
    "        name = female_name[r.randint(0, len(female_name))-1]\n",
    "        patronymic = female_patronymic[r.randint(0, len(female_patronymic))-1]\n",
    "    else:\n",
    "        surname = male_surname[r.randint(0, len(male_surname))-1]\n",
    "        name = male_name[r.randint(0, len(male_name))-1]\n",
    "        patronymic = male_patronymic[r.randint(0, len(male_patronymic))-1]\n",
    "        \n",
    "    row.append(surname)\n",
    "    row.append(name)\n",
    "    row.append(patronymic)\n",
    "    row.append(position[r.randint(0, 5)])\n",
    "    row.append(r.randint(1, 6))\n",
    "    \n",
    "    data.append(row)\n",
    "    \n",
    "teacher = pd.DataFrame.from_records(data, columns=['teacher_id',\n",
    "                                                  'surname',\n",
    "                                                  'name',\n",
    "                                                  'patronymic',\n",
    "                                                  'position',\n",
    "                                                  'faculty_id'])\n",
    "create_inserts(teacher, 'teacher', ['surname',\n",
    "                                                  'name',\n",
    "                                                  'patronymic',\n",
    "                                                  'position',\n",
    "                                                  'faculty_id'])"
   ]
  },
  {
   "cell_type": "code",
   "execution_count": null,
   "id": "6d63bf42",
   "metadata": {
    "hidden": true
   },
   "outputs": [],
   "source": []
  },
  {
   "cell_type": "code",
   "execution_count": null,
   "id": "8a7695a1",
   "metadata": {
    "hidden": true
   },
   "outputs": [],
   "source": []
  },
  {
   "cell_type": "code",
   "execution_count": null,
   "id": "5fb012d2",
   "metadata": {
    "hidden": true
   },
   "outputs": [],
   "source": []
  },
  {
   "cell_type": "code",
   "execution_count": null,
   "id": "587fd68f",
   "metadata": {
    "hidden": true
   },
   "outputs": [],
   "source": []
  }
 ],
 "metadata": {
  "kernelspec": {
   "display_name": "Python 3 (ipykernel)",
   "language": "python",
   "name": "python3"
  },
  "language_info": {
   "codemirror_mode": {
    "name": "ipython",
    "version": 3
   },
   "file_extension": ".py",
   "mimetype": "text/x-python",
   "name": "python",
   "nbconvert_exporter": "python",
   "pygments_lexer": "ipython3",
   "version": "3.11.2"
  },
  "toc": {
   "base_numbering": 1,
   "nav_menu": {},
   "number_sections": false,
   "sideBar": true,
   "skip_h1_title": false,
   "title_cell": "Table of Contents",
   "title_sidebar": "Contents",
   "toc_cell": false,
   "toc_position": {
    "height": "calc(100% - 180px)",
    "left": "10px",
    "top": "150px",
    "width": "165px"
   },
   "toc_section_display": true,
   "toc_window_display": true
  }
 },
 "nbformat": 4,
 "nbformat_minor": 5
}
